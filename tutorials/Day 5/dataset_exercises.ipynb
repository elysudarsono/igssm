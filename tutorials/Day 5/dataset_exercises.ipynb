{
 "cells": [
  {
   "cell_type": "markdown",
   "metadata": {},
   "source": [
    "# Prepare dataset"
   ]
  },
  {
   "cell_type": "markdown",
   "metadata": {},
   "source": [
    "We will use the SVHN dataset to build a neural network classifier. The exercises in this notebook will prepare the dataset ready for building the model. Take a look at the dataset here: http://ufldl.stanford.edu/housenumbers/"
   ]
  },
  {
   "cell_type": "markdown",
   "metadata": {},
   "source": [
    "**1. Download the SVHN dataset from the above URL. The data consists of files `train_32x32.mat`, `test_32x32.mat` and `extra_32x32.mat`. We will only use the first two of these files.**"
   ]
  },
  {
   "cell_type": "code",
   "execution_count": null,
   "metadata": {},
   "outputs": [],
   "source": []
  },
  {
   "cell_type": "markdown",
   "metadata": {},
   "source": [
    "**2. Explore the dataset: find out how many examples there are in the training and test sets, what the dimensions of the arrays are, and what the labels are for the set of images. If necessary, reorganise the image arrays so they are in the standard format `(num_examples, height, width, num_channels)`.**"
   ]
  },
  {
   "cell_type": "code",
   "execution_count": null,
   "metadata": {},
   "outputs": [],
   "source": []
  },
  {
   "cell_type": "markdown",
   "metadata": {},
   "source": [
    "**3. Make a 3x3 subplot to visualise randomly selected images from the dataset, together with their labels.**"
   ]
  },
  {
   "cell_type": "code",
   "execution_count": null,
   "metadata": {},
   "outputs": [],
   "source": []
  },
  {
   "cell_type": "markdown",
   "metadata": {},
   "source": [
    "**4. In order to simplify the network model, we will convert the dataset images to grayscale. To do this, take the average value across the three RBG channels for each image. Finally, normalise the data by ensuring the range of values lies between $-1$ and $1$. The final array should still be a 4D array, with the last dimension equal to 1.**"
   ]
  },
  {
   "cell_type": "code",
   "execution_count": null,
   "metadata": {},
   "outputs": [],
   "source": []
  },
  {
   "cell_type": "markdown",
   "metadata": {},
   "source": [
    "**5. Make another 3x3 subplots figure with random examples from the dataset and their labels, this time using the grayscale converted images you have made.**"
   ]
  },
  {
   "cell_type": "code",
   "execution_count": null,
   "metadata": {},
   "outputs": [],
   "source": []
  },
  {
   "cell_type": "markdown",
   "metadata": {},
   "source": [
    "**6. We also need to process the labels ready for training. Convert the labels to _one hot vectors_, so each label will be a vector of 10 entries, where all entries are 0 except for one which is 1, corresponding to the correct label. Note that 10 is a label, and we will encode this into the first entry, so for example: $$[10] -> [1, 0, 0, 0, 0, 0, 0, 0, 0, 0]$$ $$[2] -> [0, 0, 1, 0, 0, 0, 0, 0, 0, 0]$$**"
   ]
  },
  {
   "cell_type": "code",
   "execution_count": null,
   "metadata": {},
   "outputs": [],
   "source": []
  },
  {
   "cell_type": "markdown",
   "metadata": {},
   "source": [
    "**7. Save the numpy grayscale image arrays and labels for training and test sets for later use when we will use them to train our network classifier.**"
   ]
  },
  {
   "cell_type": "code",
   "execution_count": null,
   "metadata": {},
   "outputs": [],
   "source": []
  }
 ],
 "metadata": {
  "kernelspec": {
   "display_name": "Python 3",
   "language": "python",
   "name": "python3"
  },
  "language_info": {
   "codemirror_mode": {
    "name": "ipython",
    "version": 3
   },
   "file_extension": ".py",
   "mimetype": "text/x-python",
   "name": "python",
   "nbconvert_exporter": "python",
   "pygments_lexer": "ipython3",
   "version": "3.7.0"
  }
 },
 "nbformat": 4,
 "nbformat_minor": 2
}
