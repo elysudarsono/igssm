{
 "cells": [
  {
   "cell_type": "markdown",
   "metadata": {},
   "source": [
    "# Tensorflow tutorial"
   ]
  },
  {
   "cell_type": "code",
   "execution_count": null,
   "metadata": {},
   "outputs": [],
   "source": [
    "import tensorflow as tf"
   ]
  },
  {
   "cell_type": "markdown",
   "metadata": {},
   "source": [
    "## Build and execute a simple graph"
   ]
  },
  {
   "cell_type": "markdown",
   "metadata": {},
   "source": [
    "Tensorflow (and similar frameworks) work by building tensors and operations into a _graph_. The graph includes inputs (often implemented as `tf.placeholder` tensors, see later) and outputs. Importantly, we can use Tensorflow to perform automatic differentation of output loss tensors with respect to variables within the graph (used for gradient-based optimisation). \n",
    "\n",
    "Once the graph has been defined, it can then be executed inside a `tf.Session`. Tensorflow optimises the operations in the graph to ensure quick execution. Graph operations can also be placed on GPU hardware for extra speedup."
   ]
  },
  {
   "cell_type": "code",
   "execution_count": null,
   "metadata": {},
   "outputs": [],
   "source": [
    "x = tf.constant([1, 2])\n",
    "y = tf.constant([4, 5])\n",
    "\n",
    "z = tf.multiply(x, y)\n",
    "\n",
    "print(z)"
   ]
  },
  {
   "cell_type": "markdown",
   "metadata": {},
   "source": [
    "`z` is a `Tensor` object; it is the result of a graph operation (multiplication) on two other tensor objects, `x` and `y`. Printing `z` does not evaluate the graph operation, but simply returns the `Tensor` object.\n",
    "\n",
    "To evaluate `z`, we need to run the graph with a `tf.Session()`."
   ]
  },
  {
   "cell_type": "code",
   "execution_count": null,
   "metadata": {},
   "outputs": [],
   "source": [
    "x = tf.constant([1, 2, 3])\n",
    "y = tf.constant([4, 5, 6])\n",
    "\n",
    "z = tf.multiply(x, y)\n",
    "\n",
    "sess = tf.Session()\n",
    "\n",
    "print(sess.run(z))\n",
    "\n",
    "# We need to remember to close the session!\n",
    "sess.close()"
   ]
  },
  {
   "cell_type": "markdown",
   "metadata": {},
   "source": [
    "The `tf.Session()` is often instantiated with the python `with` statement. This ensures that the session is automatically closed when we are out of scope of of the `with` statement."
   ]
  },
  {
   "cell_type": "code",
   "execution_count": null,
   "metadata": {},
   "outputs": [],
   "source": [
    "x = tf.constant([1, 2, 3])\n",
    "y = tf.constant([4, 5, 6])\n",
    "\n",
    "print(x)"
   ]
  },
  {
   "cell_type": "code",
   "execution_count": null,
   "metadata": {},
   "outputs": [],
   "source": [
    "output1 = tf.multiply(x, y)\n",
    "\n",
    "with tf.Session() as sess:\n",
    "    output = sess.run(output1)\n",
    "    print(output)"
   ]
  },
  {
   "cell_type": "markdown",
   "metadata": {},
   "source": [
    "## Creating trainable variables"
   ]
  },
  {
   "cell_type": "markdown",
   "metadata": {},
   "source": [
    "Often we want to include variables in our graph. For example, these could be parameters of a machine learning model that we would like to fit during an optimisation process. "
   ]
  },
  {
   "cell_type": "code",
   "execution_count": null,
   "metadata": {},
   "outputs": [],
   "source": [
    "a = tf.Variable(2.0, name='a')\n",
    "print(a)"
   ]
  },
  {
   "cell_type": "code",
   "execution_count": null,
   "metadata": {},
   "outputs": [],
   "source": [
    "# If we run the following without the tf.cast operation then it will throw an error\n",
    "output2 = tf.add(tf.cast(x, tf.float32), a)\n",
    "print(output2)"
   ]
  },
  {
   "cell_type": "markdown",
   "metadata": {},
   "source": [
    "We have defined a simple graph that adds `x` (a `tf.constant`) and `a` (a `tf.Variable`). If we now try to run this graph in a session, it will throw an error:"
   ]
  },
  {
   "cell_type": "code",
   "execution_count": null,
   "metadata": {},
   "outputs": [],
   "source": [
    "with tf.Session() as sess:\n",
    "    output = sess.run(output2)\n",
    "    print(output)"
   ]
  },
  {
   "cell_type": "markdown",
   "metadata": {},
   "source": [
    "Why? Because `a` is a variable, and that means that Tensorflow does not automatically have any value associated with that variable. As the error message says, `a` needs to be initialised before the graph can be run."
   ]
  },
  {
   "cell_type": "markdown",
   "metadata": {},
   "source": [
    "### Initializing variables"
   ]
  },
  {
   "cell_type": "markdown",
   "metadata": {},
   "source": [
    "The following defines the initialiser operation that needs to be run before any variables can be used in graph executions. Recall that we specified a default value for `a` when we defined it."
   ]
  },
  {
   "cell_type": "code",
   "execution_count": null,
   "metadata": {},
   "outputs": [],
   "source": [
    "with tf.Session() as sess:\n",
    "    init_op = tf.global_variables_initializer()\n",
    "    sess.run(init_op)\n",
    "    print(sess.run(a))\n",
    "    output = sess.run(output2)\n",
    "    print(output)"
   ]
  },
  {
   "cell_type": "markdown",
   "metadata": {},
   "source": [
    "Variables can also be passed random initialisers. Note that we can (and should!) also name our variables."
   ]
  },
  {
   "cell_type": "code",
   "execution_count": null,
   "metadata": {},
   "outputs": [],
   "source": [
    "b = tf.Variable(tf.random_normal([2, 2], stddev=0.1), name=\"b\")\n",
    "print(b)"
   ]
  },
  {
   "cell_type": "markdown",
   "metadata": {},
   "source": [
    "Re-run the following a few times to randomly initialise the tensor `b`."
   ]
  },
  {
   "cell_type": "code",
   "execution_count": null,
   "metadata": {},
   "outputs": [],
   "source": [
    "with tf.Session() as sess:\n",
    "    init_op = tf.global_variables_initializer()\n",
    "    sess.run(init_op)\n",
    "    output = sess.run(b)\n",
    "    print(output)"
   ]
  },
  {
   "cell_type": "code",
   "execution_count": null,
   "metadata": {},
   "outputs": [],
   "source": [
    "b"
   ]
  },
  {
   "cell_type": "markdown",
   "metadata": {},
   "source": [
    "### `tf.get_variable`"
   ]
  },
  {
   "cell_type": "markdown",
   "metadata": {},
   "source": [
    "Calling `tf.Variable` will always create a new variable. Running the following cell will create another tensor variable object, that replaces the old one stored in `b`."
   ]
  },
  {
   "cell_type": "code",
   "execution_count": null,
   "metadata": {},
   "outputs": [],
   "source": [
    "b = tf.Variable(tf.random_normal([2, 2], stddev=0.1), name=\"b\")\n",
    "print(b)"
   ]
  },
  {
   "cell_type": "markdown",
   "metadata": {},
   "source": [
    "Compare the names of the variables above and note that Tensorflow automatically gave this last variable a unique name. The old `b` variable still exists in the graph! In fact, we can take a look at all the variables we have so far by running:"
   ]
  },
  {
   "cell_type": "code",
   "execution_count": null,
   "metadata": {},
   "outputs": [],
   "source": [
    "tf.global_variables()"
   ]
  },
  {
   "cell_type": "markdown",
   "metadata": {},
   "source": [
    "This poses a potential issue - sometimes we want to retrieve variables that we have already defined before. This is where `tf.get_variable()` comes in: using this will create a new variable if there isn't one already in the graph with the same name, or else will attempt to retrieve the variable that already exists."
   ]
  },
  {
   "cell_type": "code",
   "execution_count": null,
   "metadata": {},
   "outputs": [],
   "source": [
    "with tf.variable_scope('layer1'):\n",
    "    b = tf.get_variable(\"b\", initializer=tf.random_normal([2, 2], stddev=0.1))\n",
    "    \n",
    "print(b)"
   ]
  },
  {
   "cell_type": "markdown",
   "metadata": {},
   "source": [
    "In the above we created another new variable, this time with `tf.get_variable()`. We also made use of the `tf.variable_scope()` to prepend the name with `layer1`: this is a useful habit to get into to organise your variables into name spaces.\n",
    "\n",
    "Let's initialise and print out the value of this new variable as before:"
   ]
  },
  {
   "cell_type": "code",
   "execution_count": null,
   "metadata": {},
   "outputs": [],
   "source": [
    "with tf.Session() as sess:\n",
    "    init_op = tf.global_variables_initializer()\n",
    "    sess.run(init_op)\n",
    "    output = sess.run(b)\n",
    "    print(output)"
   ]
  },
  {
   "cell_type": "markdown",
   "metadata": {},
   "source": [
    "Take a look at the variables in our graph now:"
   ]
  },
  {
   "cell_type": "code",
   "execution_count": null,
   "metadata": {},
   "outputs": [],
   "source": [
    "tf.global_variables()"
   ]
  },
  {
   "cell_type": "markdown",
   "metadata": {},
   "source": [
    "Now say we would like to retrieve this last variable from the graph (named `layer1/b:0`). If we use `tf.get_variable()` as follows we will get an error:"
   ]
  },
  {
   "cell_type": "code",
   "execution_count": null,
   "metadata": {},
   "outputs": [],
   "source": [
    "with tf.variable_scope('layer1'):\n",
    "    b = tf.get_variable('b', shape=(2, 2), initializer=tf.random_normal_initializer())"
   ]
  },
  {
   "cell_type": "markdown",
   "metadata": {},
   "source": [
    "This is a safety feature in Tensorflow - it forces us to be aware of when we are creating new variables, and when we are re-using existing variables.\n",
    "\n",
    "If we know that we want to retrieve the variable, then we need to set reuse to `True` in the variable scope, as it says in the error message."
   ]
  },
  {
   "cell_type": "code",
   "execution_count": null,
   "metadata": {},
   "outputs": [],
   "source": [
    "with tf.variable_scope('layer1', reuse=True):\n",
    "    b = tf.get_variable('b', shape=(2, 2), initializer=tf.random_normal_initializer())"
   ]
  },
  {
   "cell_type": "code",
   "execution_count": null,
   "metadata": {},
   "outputs": [],
   "source": [
    "with tf.Session() as sess:\n",
    "    init_op = tf.global_variables_initializer()\n",
    "    sess.run(init_op)\n",
    "    output = sess.run(b)\n",
    "    print(output)"
   ]
  },
  {
   "cell_type": "markdown",
   "metadata": {},
   "source": [
    "Final check that the previous cells didn't create any new variables:"
   ]
  },
  {
   "cell_type": "code",
   "execution_count": null,
   "metadata": {},
   "outputs": [],
   "source": [
    "tf.global_variables()"
   ]
  },
  {
   "cell_type": "markdown",
   "metadata": {},
   "source": [
    "A useful method (especially when working interactively, as in a notebook) to clear the current graph is `tf.reset_default_graph()`."
   ]
  },
  {
   "cell_type": "code",
   "execution_count": null,
   "metadata": {},
   "outputs": [],
   "source": [
    "tf.reset_default_graph()\n",
    "tf.global_variables()"
   ]
  },
  {
   "cell_type": "markdown",
   "metadata": {},
   "source": [
    "## Placeholders"
   ]
  },
  {
   "cell_type": "markdown",
   "metadata": {},
   "source": [
    "Placeholders are another important type of tensor. We often use them to feed data into a model during the fitting process. That means that in order to execute a graph that depends on a placeholder tensor, we need to provide the value of that placeholder tensor.\n",
    "\n",
    "Let's first create a placeholder:"
   ]
  },
  {
   "cell_type": "code",
   "execution_count": null,
   "metadata": {},
   "outputs": [],
   "source": [
    "c = tf.placeholder(tf.float32, shape=(2,), name='input')\n",
    "print(c)"
   ]
  },
  {
   "cell_type": "markdown",
   "metadata": {},
   "source": [
    "Running the following cell will throw an error. It should be clear why - we are trying to run a graph (a very simple graph consisting only of the placeholder `c`) without providing a value for the placeholder. The error messageg explicitly tells us this."
   ]
  },
  {
   "cell_type": "code",
   "execution_count": null,
   "metadata": {
    "scrolled": true
   },
   "outputs": [],
   "source": [
    "with tf.Session() as sess:\n",
    "    output = sess.run(c)\n",
    "    print(output)"
   ]
  },
  {
   "cell_type": "markdown",
   "metadata": {},
   "source": [
    "In order to feed values to placeholders, we use the `feed_dict` keyword argument when running the graph in a session. This argument expects a dictionary, where relevant placeholder tensors are keys, and the values are the values those placeholders should take. These values often come from data in practice."
   ]
  },
  {
   "cell_type": "code",
   "execution_count": null,
   "metadata": {},
   "outputs": [],
   "source": [
    "import numpy as np\n",
    "\n",
    "feed_dict = {c: np.array([3, 4])}\n",
    "\n",
    "with tf.Session() as sess:\n",
    "    output = sess.run(c, feed_dict=feed_dict)\n",
    "    print(output)"
   ]
  },
  {
   "cell_type": "markdown",
   "metadata": {},
   "source": [
    "When creating placeholders, it is possible to provide one or more of the shape dimensions as `None`. This means that the size of that dimension is only specified at graph execution time, i.e. when provided data to the graph through the `feed_dict`. \n",
    "\n",
    "For example, this is useful in cases where we would like to define a graph such that it processes multiple data points at once, but we would like to keep the actual number of data points flexible."
   ]
  },
  {
   "cell_type": "code",
   "execution_count": null,
   "metadata": {},
   "outputs": [],
   "source": [
    "d = tf.placeholder(tf.float32, shape=(None, 3), name='data_batch')"
   ]
  },
  {
   "cell_type": "code",
   "execution_count": null,
   "metadata": {},
   "outputs": [],
   "source": [
    "data1 = np.random.randn(2, 3)\n",
    "\n",
    "feed_dict = {d: data1}\n",
    "with tf.Session() as sess:\n",
    "    output = sess.run(d, feed_dict=feed_dict)\n",
    "    print(output)"
   ]
  },
  {
   "cell_type": "code",
   "execution_count": null,
   "metadata": {},
   "outputs": [],
   "source": [
    "data2 = np.random.randn(5, 3)\n",
    "\n",
    "feed_dict = {d: data2}\n",
    "with tf.Session() as sess:\n",
    "    output = sess.run(d, feed_dict=feed_dict)\n",
    "    print(output)"
   ]
  },
  {
   "cell_type": "markdown",
   "metadata": {},
   "source": [
    "## More Tensorflow operations"
   ]
  },
  {
   "cell_type": "markdown",
   "metadata": {},
   "source": [
    "Tensorflow comes with a large range of methods and operations that can be performed on tensors. Most things that we would want to do are available as tensorflow operations - check the docs to look for operations that you want to use."
   ]
  },
  {
   "cell_type": "code",
   "execution_count": null,
   "metadata": {},
   "outputs": [],
   "source": [
    "mat_inv = tf.matrix_inverse(b)\n",
    "mat_vec_multiply = tf.matmul(mat_inv, tf.expand_dims(c, axis=1))\n",
    "print(mat_vec_multiply)"
   ]
  },
  {
   "cell_type": "code",
   "execution_count": null,
   "metadata": {},
   "outputs": [],
   "source": [
    "squeezed = tf.squeeze(mat_vec_multiply)\n",
    "print(squeezed)"
   ]
  },
  {
   "cell_type": "code",
   "execution_count": null,
   "metadata": {},
   "outputs": [],
   "source": [
    "feed_dict = {c: np.array([1, 1])}\n",
    "\n",
    "with tf.Session() as sess:\n",
    "    init_op = tf.global_variables_initializer()\n",
    "    sess.run(init_op)\n",
    "    output = sess.run([squeezed, mat_inv], feed_dict=feed_dict)\n",
    "    print(output[0])\n",
    "    print(output[1])"
   ]
  },
  {
   "cell_type": "code",
   "execution_count": null,
   "metadata": {},
   "outputs": [],
   "source": []
  }
 ],
 "metadata": {
  "kernelspec": {
   "display_name": "Python 3",
   "language": "python",
   "name": "python3"
  },
  "language_info": {
   "codemirror_mode": {
    "name": "ipython",
    "version": 3
   },
   "file_extension": ".py",
   "mimetype": "text/x-python",
   "name": "python",
   "nbconvert_exporter": "python",
   "pygments_lexer": "ipython3",
   "version": "3.7.0"
  }
 },
 "nbformat": 4,
 "nbformat_minor": 2
}
