{
 "cells": [
  {
   "cell_type": "markdown",
   "metadata": {},
   "source": [
    "# Tensorflow exercises"
   ]
  },
  {
   "cell_type": "markdown",
   "metadata": {},
   "source": [
    "**1. Create a constant tensor `a` with shape `(2, 3)` with values of your choice, and a placeholder tensor `b` with the same shape, and a graph operation to compute `a - b`. Run the operation in a session and print the result, where `b` is initialised with a random uniform distribution in the interval $[-2, 3]$.**"
   ]
  },
  {
   "cell_type": "code",
   "execution_count": null,
   "metadata": {},
   "outputs": [],
   "source": []
  },
  {
   "cell_type": "markdown",
   "metadata": {},
   "source": [
    "**2. Rewrite the graph, so that it can process multiple such placeholders `b` at once. Run the operation and print the result again, using a batch of three `(2,3)` arrays for `b`.**"
   ]
  },
  {
   "cell_type": "code",
   "execution_count": null,
   "metadata": {},
   "outputs": [],
   "source": []
  },
  {
   "cell_type": "markdown",
   "metadata": {},
   "source": [
    "**3. Create a variable object `W1` with shape `(3, 3)` and random normal initialiser inside the variable scope `layer1`. Create another placeholder `x` with shape `(None, 3)`, where the first dimension is for the batch size. Define the tensor `h1` of shape `(None, 3)` that is the matrix-vector product $W_1 x$. Give it the name `h1`.**"
   ]
  },
  {
   "cell_type": "code",
   "execution_count": null,
   "metadata": {},
   "outputs": [],
   "source": []
  },
  {
   "cell_type": "markdown",
   "metadata": {},
   "source": [
    "**4. Now create another variable `W2` with shape `(3, 1)` and random normal initialiser inside variable scope `layer2`. Define the tensor `out1` that is given by $W_2h_1 = W_2W_1x$ with shape `(None, 1)`.**"
   ]
  },
  {
   "cell_type": "code",
   "execution_count": null,
   "metadata": {},
   "outputs": [],
   "source": []
  },
  {
   "cell_type": "markdown",
   "metadata": {},
   "source": [
    "**5. Run the variables initialiser inside a session and execute the graph, with $$x=[[1, 0, 2], [-2, 1, 0]].$$ Print out the value of `out1`.**"
   ]
  },
  {
   "cell_type": "code",
   "execution_count": null,
   "metadata": {},
   "outputs": [],
   "source": []
  },
  {
   "cell_type": "markdown",
   "metadata": {},
   "source": [
    "**6. Clear the current graph, and check it is empty by printing all global variables.**"
   ]
  },
  {
   "cell_type": "code",
   "execution_count": null,
   "metadata": {},
   "outputs": [],
   "source": []
  },
  {
   "cell_type": "markdown",
   "metadata": {},
   "source": [
    "**7. Build a tensorflow graph for computing a weighted norm of a vector $x\\in\\mathbb{R}^2$ corresponding to the weighting matrix $$M = [[2, -3], [-3, 9]].$$ Run the graph to find the weighted norms of the vectors $x_1 = [1, 2], x_2=[-2, 5], x_3=[5, -2]$.**"
   ]
  },
  {
   "cell_type": "code",
   "execution_count": null,
   "metadata": {},
   "outputs": [],
   "source": []
  }
 ],
 "metadata": {
  "kernelspec": {
   "display_name": "Python 3",
   "language": "python",
   "name": "python3"
  },
  "language_info": {
   "codemirror_mode": {
    "name": "ipython",
    "version": 3
   },
   "file_extension": ".py",
   "mimetype": "text/x-python",
   "name": "python",
   "nbconvert_exporter": "python",
   "pygments_lexer": "ipython3",
   "version": "3.7.0"
  }
 },
 "nbformat": 4,
 "nbformat_minor": 2
}
