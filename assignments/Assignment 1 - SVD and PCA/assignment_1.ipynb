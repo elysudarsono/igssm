{
 "cells": [
  {
   "cell_type": "markdown",
   "metadata": {},
   "source": [
    "# Assignment 1 - SVD and PCA"
   ]
  },
  {
   "cell_type": "markdown",
   "metadata": {},
   "source": [
    "In this assignment we will compute PCA dimensionality purely in numpy/scipy, making use of eigendecomposition and singular value decomposition."
   ]
  },
  {
   "cell_type": "markdown",
   "metadata": {},
   "source": [
    "**1. Load the Digits dataset.**"
   ]
  },
  {
   "cell_type": "code",
   "execution_count": null,
   "metadata": {},
   "outputs": [],
   "source": []
  },
  {
   "cell_type": "markdown",
   "metadata": {},
   "source": [
    "**2. Make a 4x4 subplots figure with randomly drawn samples from the dataset in each subplot. Display the digit image and label each subplot with the ground truth label.**"
   ]
  },
  {
   "cell_type": "code",
   "execution_count": null,
   "metadata": {},
   "outputs": [],
   "source": []
  },
  {
   "cell_type": "markdown",
   "metadata": {},
   "source": [
    "**3. Extract the data matrix $\\Phi_{\\mathbf{x}}$ and compute the sample covariance matrix $\\frac{1}{N-1}\\Phi_{\\mathbf{x}}^T\\Phi_{\\mathbf{x}}$ from it, remembering to first centre the data.**"
   ]
  },
  {
   "cell_type": "code",
   "execution_count": null,
   "metadata": {},
   "outputs": [],
   "source": []
  },
  {
   "cell_type": "markdown",
   "metadata": {},
   "source": [
    "**4. Compute the eigensystem of the covariance matrix using methods available in numpy/scipy. Make a bar chart displaying the eigenvalues. Ensure the eigenvectors have unit norm.**"
   ]
  },
  {
   "cell_type": "code",
   "execution_count": null,
   "metadata": {},
   "outputs": [],
   "source": []
  },
  {
   "cell_type": "markdown",
   "metadata": {},
   "source": [
    "**5. Consider the first image `x` in the digits dataset, given by the first row of the digits data matrix. Show that by compressing the data to 5 dimensions (corresponding to the 5 largest eigenvalues), `x` is encoded as:<br>\n",
    "[1.259, -21.275,   9.463,  13.014, 7.128]<br>\n",
    "Verify that the distance in 2-norm between `x` and its reconstruction is 15.11.**"
   ]
  },
  {
   "cell_type": "code",
   "execution_count": null,
   "metadata": {},
   "outputs": [],
   "source": []
  },
  {
   "cell_type": "markdown",
   "metadata": {},
   "source": [
    "**6. Make a plot showing the distance in 2-norm between `x` and its reconstruction for different numbers of compression dimensions.**"
   ]
  },
  {
   "cell_type": "code",
   "execution_count": null,
   "metadata": {},
   "outputs": [],
   "source": []
  },
  {
   "cell_type": "markdown",
   "metadata": {},
   "source": [
    "**7. Compute the singular value decomposition of the data matrix $X = U\\Sigma W^T$ using methods available in numpy/scipy. Make a bar chart displaying the singular values. Verify the right singular vectors have unit norm.**"
   ]
  },
  {
   "cell_type": "code",
   "execution_count": null,
   "metadata": {},
   "outputs": [],
   "source": []
  },
  {
   "cell_type": "markdown",
   "metadata": {},
   "source": [
    "**8. Verify that the covariance matrix $Var[x]$ is equal to $\\frac{1}{m-1}W\\Sigma^2W^T$.**"
   ]
  },
  {
   "cell_type": "code",
   "execution_count": 97,
   "metadata": {},
   "outputs": [],
   "source": []
  },
  {
   "cell_type": "markdown",
   "metadata": {},
   "source": [
    "**9. Show that 21 principal components are needed in order to explain at least 90% of the data variance.**"
   ]
  },
  {
   "cell_type": "code",
   "execution_count": null,
   "metadata": {},
   "outputs": [],
   "source": []
  },
  {
   "cell_type": "markdown",
   "metadata": {},
   "source": [
    "**10. Visualise the first four principal components as images.**"
   ]
  },
  {
   "cell_type": "code",
   "execution_count": null,
   "metadata": {},
   "outputs": [],
   "source": []
  }
 ],
 "metadata": {
  "kernelspec": {
   "display_name": "Python 3",
   "language": "python",
   "name": "python3"
  },
  "language_info": {
   "codemirror_mode": {
    "name": "ipython",
    "version": 3
   },
   "file_extension": ".py",
   "mimetype": "text/x-python",
   "name": "python",
   "nbconvert_exporter": "python",
   "pygments_lexer": "ipython3",
   "version": "3.7.0"
  }
 },
 "nbformat": 4,
 "nbformat_minor": 2
}
